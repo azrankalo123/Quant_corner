{
  "nbformat": 4,
  "nbformat_minor": 0,
  "metadata": {
    "colab": {
      "provenance": [],
      "include_colab_link": true
    },
    "kernelspec": {
      "name": "python3",
      "display_name": "Python 3"
    },
    "language_info": {
      "name": "python"
    }
  },
  "cells": [
    {
      "cell_type": "markdown",
      "metadata": {
        "id": "view-in-github",
        "colab_type": "text"
      },
      "source": [
        "<a href=\"https://colab.research.google.com/github/azrankalo123/Quant_corner/blob/main/Problem_for_p'EM.ipynb\" target=\"_parent\"><img src=\"https://colab.research.google.com/assets/colab-badge.svg\" alt=\"Open In Colab\"/></a>"
      ]
    },
    {
      "cell_type": "markdown",
      "source": [
        "<font size=\"8\">Problem 1</font>"
      ],
      "metadata": {
        "id": "ZGNdJ_COBOkO"
      }
    },
    {
      "cell_type": "markdown",
      "source": [
        "A mutual fund has \\$100,000 to be invested over a three-year horizon.\n",
        "\n",
        "Three investment options are available:\n",
        "\n",
        "- 1.  **Annuity:** the fund can pay a same amount of new capital at the beginning each of three years and receive a payoff of 130% of **total capital** invested at the end of the third year. Once the mutual fund decides to invest in this annuity, it has to keep investing in all subsequent years in the three-year horizon.\n",
        "\n",
        "- 2. **Bank account:** the fund can deposit any amount into a bank at the beginning of each year and receive its capital plus 6% interest at the end of that year. In addition, the mutual fund is permitted to borrow no more than $20,000 at the beginning of each year and is asked to pay back the amount borrowed plus 6% interest at the end of the year. The mutual fund can choose whether to deposit or borrow at the beginning of each year.\n",
        "\n",
        "- 3. **Corporate bond:** At the beginning of the second year, a corporate bond becomes available. The fund can buy an amount that is no more than\n",
        "\\$50,000 of this bond at the beginning of the second year and at the end of the third year receive a payout of 130% of the amount invested in the bond.\n",
        "\n",
        "The mutual fund’s objective is to maximize total payout that it owns at the end of the third year."
      ],
      "metadata": {
        "id": "9qsVhTDoAuas"
      }
    },
    {
      "cell_type": "markdown",
      "source": [
        "Let $x_1$ be the amount of put in the annuity, $x_2,x_3,x_4$ be bank deposit balances at the beginning of the three years, and $x_5$ be the amount invested in the corporate bond.\n",
        "\n",
        "When $x_2,x_3,x_4$ are negative, it means that the mutual fund has borrowed from bank.\n",
        "\n",
        "The table below shows the mutual fund’s decision variables together with the timing protocol described above:"
      ],
      "metadata": {
        "id": "v7AeKw71A4k4"
      }
    },
    {
      "cell_type": "code",
      "source": [
        "# @title\n",
        "import pandas as pd\n",
        "pd.DataFrame({'Year 1':['x_1','x_2',0],\n",
        "              'Year 2':['x_1','x_3','x_5'],\n",
        "              'Year 3':['x_1','x_4',0]},index = ['Annuity','Bank account','Corporate bond'])"
      ],
      "metadata": {
        "colab": {
          "base_uri": "https://localhost:8080/",
          "height": 143
        },
        "id": "GT3gm-PmA3e4",
        "outputId": "838241fe-c0b6-47b6-8695-29210ee50a2c"
      },
      "execution_count": null,
      "outputs": [
        {
          "output_type": "execute_result",
          "data": {
            "text/plain": [
              "               Year 1 Year 2 Year 3\n",
              "Annuity           x_1    x_1    x_1\n",
              "Bank account      x_2    x_3    x_4\n",
              "Corporate bond      0    x_5      0"
            ],
            "text/html": [
              "\n",
              "  <div id=\"df-357d08be-ca96-4604-a9a8-7af6e471e993\" class=\"colab-df-container\">\n",
              "    <div>\n",
              "<style scoped>\n",
              "    .dataframe tbody tr th:only-of-type {\n",
              "        vertical-align: middle;\n",
              "    }\n",
              "\n",
              "    .dataframe tbody tr th {\n",
              "        vertical-align: top;\n",
              "    }\n",
              "\n",
              "    .dataframe thead th {\n",
              "        text-align: right;\n",
              "    }\n",
              "</style>\n",
              "<table border=\"1\" class=\"dataframe\">\n",
              "  <thead>\n",
              "    <tr style=\"text-align: right;\">\n",
              "      <th></th>\n",
              "      <th>Year 1</th>\n",
              "      <th>Year 2</th>\n",
              "      <th>Year 3</th>\n",
              "    </tr>\n",
              "  </thead>\n",
              "  <tbody>\n",
              "    <tr>\n",
              "      <th>Annuity</th>\n",
              "      <td>x_1</td>\n",
              "      <td>x_1</td>\n",
              "      <td>x_1</td>\n",
              "    </tr>\n",
              "    <tr>\n",
              "      <th>Bank account</th>\n",
              "      <td>x_2</td>\n",
              "      <td>x_3</td>\n",
              "      <td>x_4</td>\n",
              "    </tr>\n",
              "    <tr>\n",
              "      <th>Corporate bond</th>\n",
              "      <td>0</td>\n",
              "      <td>x_5</td>\n",
              "      <td>0</td>\n",
              "    </tr>\n",
              "  </tbody>\n",
              "</table>\n",
              "</div>\n",
              "    <div class=\"colab-df-buttons\">\n",
              "\n",
              "  <div class=\"colab-df-container\">\n",
              "    <button class=\"colab-df-convert\" onclick=\"convertToInteractive('df-357d08be-ca96-4604-a9a8-7af6e471e993')\"\n",
              "            title=\"Convert this dataframe to an interactive table.\"\n",
              "            style=\"display:none;\">\n",
              "\n",
              "  <svg xmlns=\"http://www.w3.org/2000/svg\" height=\"24px\" viewBox=\"0 -960 960 960\">\n",
              "    <path d=\"M120-120v-720h720v720H120Zm60-500h600v-160H180v160Zm220 220h160v-160H400v160Zm0 220h160v-160H400v160ZM180-400h160v-160H180v160Zm440 0h160v-160H620v160ZM180-180h160v-160H180v160Zm440 0h160v-160H620v160Z\"/>\n",
              "  </svg>\n",
              "    </button>\n",
              "\n",
              "  <style>\n",
              "    .colab-df-container {\n",
              "      display:flex;\n",
              "      gap: 12px;\n",
              "    }\n",
              "\n",
              "    .colab-df-convert {\n",
              "      background-color: #E8F0FE;\n",
              "      border: none;\n",
              "      border-radius: 50%;\n",
              "      cursor: pointer;\n",
              "      display: none;\n",
              "      fill: #1967D2;\n",
              "      height: 32px;\n",
              "      padding: 0 0 0 0;\n",
              "      width: 32px;\n",
              "    }\n",
              "\n",
              "    .colab-df-convert:hover {\n",
              "      background-color: #E2EBFA;\n",
              "      box-shadow: 0px 1px 2px rgba(60, 64, 67, 0.3), 0px 1px 3px 1px rgba(60, 64, 67, 0.15);\n",
              "      fill: #174EA6;\n",
              "    }\n",
              "\n",
              "    .colab-df-buttons div {\n",
              "      margin-bottom: 4px;\n",
              "    }\n",
              "\n",
              "    [theme=dark] .colab-df-convert {\n",
              "      background-color: #3B4455;\n",
              "      fill: #D2E3FC;\n",
              "    }\n",
              "\n",
              "    [theme=dark] .colab-df-convert:hover {\n",
              "      background-color: #434B5C;\n",
              "      box-shadow: 0px 1px 3px 1px rgba(0, 0, 0, 0.15);\n",
              "      filter: drop-shadow(0px 1px 2px rgba(0, 0, 0, 0.3));\n",
              "      fill: #FFFFFF;\n",
              "    }\n",
              "  </style>\n",
              "\n",
              "    <script>\n",
              "      const buttonEl =\n",
              "        document.querySelector('#df-357d08be-ca96-4604-a9a8-7af6e471e993 button.colab-df-convert');\n",
              "      buttonEl.style.display =\n",
              "        google.colab.kernel.accessAllowed ? 'block' : 'none';\n",
              "\n",
              "      async function convertToInteractive(key) {\n",
              "        const element = document.querySelector('#df-357d08be-ca96-4604-a9a8-7af6e471e993');\n",
              "        const dataTable =\n",
              "          await google.colab.kernel.invokeFunction('convertToInteractive',\n",
              "                                                    [key], {});\n",
              "        if (!dataTable) return;\n",
              "\n",
              "        const docLinkHtml = 'Like what you see? Visit the ' +\n",
              "          '<a target=\"_blank\" href=https://colab.research.google.com/notebooks/data_table.ipynb>data table notebook</a>'\n",
              "          + ' to learn more about interactive tables.';\n",
              "        element.innerHTML = '';\n",
              "        dataTable['output_type'] = 'display_data';\n",
              "        await google.colab.output.renderOutput(dataTable, element);\n",
              "        const docLink = document.createElement('div');\n",
              "        docLink.innerHTML = docLinkHtml;\n",
              "        element.appendChild(docLink);\n",
              "      }\n",
              "    </script>\n",
              "  </div>\n",
              "\n",
              "\n",
              "<div id=\"df-2106df75-8f3e-465d-9f46-71b7cde51921\">\n",
              "  <button class=\"colab-df-quickchart\" onclick=\"quickchart('df-2106df75-8f3e-465d-9f46-71b7cde51921')\"\n",
              "            title=\"Suggest charts\"\n",
              "            style=\"display:none;\">\n",
              "\n",
              "<svg xmlns=\"http://www.w3.org/2000/svg\" height=\"24px\"viewBox=\"0 0 24 24\"\n",
              "     width=\"24px\">\n",
              "    <g>\n",
              "        <path d=\"M19 3H5c-1.1 0-2 .9-2 2v14c0 1.1.9 2 2 2h14c1.1 0 2-.9 2-2V5c0-1.1-.9-2-2-2zM9 17H7v-7h2v7zm4 0h-2V7h2v10zm4 0h-2v-4h2v4z\"/>\n",
              "    </g>\n",
              "</svg>\n",
              "  </button>\n",
              "\n",
              "<style>\n",
              "  .colab-df-quickchart {\n",
              "      --bg-color: #E8F0FE;\n",
              "      --fill-color: #1967D2;\n",
              "      --hover-bg-color: #E2EBFA;\n",
              "      --hover-fill-color: #174EA6;\n",
              "      --disabled-fill-color: #AAA;\n",
              "      --disabled-bg-color: #DDD;\n",
              "  }\n",
              "\n",
              "  [theme=dark] .colab-df-quickchart {\n",
              "      --bg-color: #3B4455;\n",
              "      --fill-color: #D2E3FC;\n",
              "      --hover-bg-color: #434B5C;\n",
              "      --hover-fill-color: #FFFFFF;\n",
              "      --disabled-bg-color: #3B4455;\n",
              "      --disabled-fill-color: #666;\n",
              "  }\n",
              "\n",
              "  .colab-df-quickchart {\n",
              "    background-color: var(--bg-color);\n",
              "    border: none;\n",
              "    border-radius: 50%;\n",
              "    cursor: pointer;\n",
              "    display: none;\n",
              "    fill: var(--fill-color);\n",
              "    height: 32px;\n",
              "    padding: 0;\n",
              "    width: 32px;\n",
              "  }\n",
              "\n",
              "  .colab-df-quickchart:hover {\n",
              "    background-color: var(--hover-bg-color);\n",
              "    box-shadow: 0 1px 2px rgba(60, 64, 67, 0.3), 0 1px 3px 1px rgba(60, 64, 67, 0.15);\n",
              "    fill: var(--button-hover-fill-color);\n",
              "  }\n",
              "\n",
              "  .colab-df-quickchart-complete:disabled,\n",
              "  .colab-df-quickchart-complete:disabled:hover {\n",
              "    background-color: var(--disabled-bg-color);\n",
              "    fill: var(--disabled-fill-color);\n",
              "    box-shadow: none;\n",
              "  }\n",
              "\n",
              "  .colab-df-spinner {\n",
              "    border: 2px solid var(--fill-color);\n",
              "    border-color: transparent;\n",
              "    border-bottom-color: var(--fill-color);\n",
              "    animation:\n",
              "      spin 1s steps(1) infinite;\n",
              "  }\n",
              "\n",
              "  @keyframes spin {\n",
              "    0% {\n",
              "      border-color: transparent;\n",
              "      border-bottom-color: var(--fill-color);\n",
              "      border-left-color: var(--fill-color);\n",
              "    }\n",
              "    20% {\n",
              "      border-color: transparent;\n",
              "      border-left-color: var(--fill-color);\n",
              "      border-top-color: var(--fill-color);\n",
              "    }\n",
              "    30% {\n",
              "      border-color: transparent;\n",
              "      border-left-color: var(--fill-color);\n",
              "      border-top-color: var(--fill-color);\n",
              "      border-right-color: var(--fill-color);\n",
              "    }\n",
              "    40% {\n",
              "      border-color: transparent;\n",
              "      border-right-color: var(--fill-color);\n",
              "      border-top-color: var(--fill-color);\n",
              "    }\n",
              "    60% {\n",
              "      border-color: transparent;\n",
              "      border-right-color: var(--fill-color);\n",
              "    }\n",
              "    80% {\n",
              "      border-color: transparent;\n",
              "      border-right-color: var(--fill-color);\n",
              "      border-bottom-color: var(--fill-color);\n",
              "    }\n",
              "    90% {\n",
              "      border-color: transparent;\n",
              "      border-bottom-color: var(--fill-color);\n",
              "    }\n",
              "  }\n",
              "</style>\n",
              "\n",
              "  <script>\n",
              "    async function quickchart(key) {\n",
              "      const quickchartButtonEl =\n",
              "        document.querySelector('#' + key + ' button');\n",
              "      quickchartButtonEl.disabled = true;  // To prevent multiple clicks.\n",
              "      quickchartButtonEl.classList.add('colab-df-spinner');\n",
              "      try {\n",
              "        const charts = await google.colab.kernel.invokeFunction(\n",
              "            'suggestCharts', [key], {});\n",
              "      } catch (error) {\n",
              "        console.error('Error during call to suggestCharts:', error);\n",
              "      }\n",
              "      quickchartButtonEl.classList.remove('colab-df-spinner');\n",
              "      quickchartButtonEl.classList.add('colab-df-quickchart-complete');\n",
              "    }\n",
              "    (() => {\n",
              "      let quickchartButtonEl =\n",
              "        document.querySelector('#df-2106df75-8f3e-465d-9f46-71b7cde51921 button');\n",
              "      quickchartButtonEl.style.display =\n",
              "        google.colab.kernel.accessAllowed ? 'block' : 'none';\n",
              "    })();\n",
              "  </script>\n",
              "</div>\n",
              "    </div>\n",
              "  </div>\n"
            ]
          },
          "metadata": {},
          "execution_count": 1
        }
      ]
    },
    {
      "cell_type": "markdown",
      "source": [
        "The mutual fund’s decision making proceeds according to the following timing protocol:"
      ],
      "metadata": {
        "id": "fZTjtpoqA6N6"
      }
    },
    {
      "cell_type": "markdown",
      "source": [
        "Constraints"
      ],
      "metadata": {
        "id": "sGCq26IKA7y8"
      }
    },
    {
      "cell_type": "markdown",
      "source": [
        "1.  At the beginning of the first year, the mutual fund decides how much to invest in the annuity and how much to deposit in the bank. :\n",
        "\n",
        "  $x_1+x_2=100,000$\n",
        "\n",
        "2.  At the beginning of the second year, the mutual fund has a bank balance of $1.06x_2.$ It must keep $x_1$ in the annuity. It can choose to put $x_5$ into the corporate bond, and put $x_3$ in the bank. :\n",
        "\n",
        "  $x_1+x_5=1.06x_2-x_3$\n",
        "\n",
        "3.  At the beginning of the third year, the mutual fund has a bank account balance equal to $1.06x_3.$ It must again invest $x_1$ in the annuity, leaving it with a bank account balance equal to $x_4.$ :\n",
        "\n",
        "  $x_1=1.06x_3-x_4$\n",
        "\n",
        "The mutual fund’s objective function\n",
        "\n",
        "$$1.30 \\cdot 3x_1+1.06x_4+1.30x_5$$\n",
        "\n"
      ],
      "metadata": {
        "id": "FPrDmJxGA7_M"
      }
    },
    {
      "cell_type": "markdown",
      "source": [
        "\n",
        "\\begin{align*}\n",
        "\\text{Maximize: } & 1.30 \\cdot 3x_1 + 1.06x_4 + 1.30x_5, \\\\\n",
        "\\text{Subject to: } & x_1 + x_2 = 100,000, \\\\\n",
        "& x_1 - 1.06x_2 + x_3 + x_5 = 0, \\\\\n",
        "& x_1 - 1.06x_3 + x_4= 0, \\\\\n",
        "& x_2 \\geq -20,000, \\\\\n",
        "& x_3 \\geq -20,000, \\\\\n",
        "& x_4 \\geq -20,000, \\\\\n",
        "& x_5 \\leq  50,000, \\\\\n",
        "& x_1, x_2, x_3, x_4, x_5 \\geq 0.\n",
        "\\end{align*}\n",
        "\n"
      ],
      "metadata": {
        "id": "Gd3FisOaBHzC"
      }
    },
    {
      "cell_type": "code",
      "source": [
        "import cvxpy as cp\n",
        "\n",
        "# Define the variables\n",
        "x1 = cp.Variable()\n",
        "x2 = cp.Variable()\n",
        "x3 = cp.Variable()\n",
        "x4 = cp.Variable()\n",
        "x5 = cp.Variable()\n",
        "\n",
        "# Define the objective function\n",
        "objective = cp.Maximize(1.30 * 3 * x1 + 1.06 * x4 + 1.30 * x5)\n",
        "\n",
        "# Define the constraints\n",
        "constraints = [\n",
        "    x1 + x2 == 100000,\n",
        "    x1 - 1.06 * x2 + x3 + x5 == 0,\n",
        "    x1 - 1.06 * x3 + x4 == 0,\n",
        "    x2 >= -20000,\n",
        "    x3 >= -20000,\n",
        "    x4 >= -20000,\n",
        "    x5 <= 50000,\n",
        "    x1 >= 0,\n",
        "    x2 >= 0,\n",
        "    x3 >= 0,\n",
        "    x4 >= 0,\n",
        "    x5 >= 0\n",
        "]\n",
        "\n",
        "# Formulate the optimization problem\n",
        "problem = cp.Problem(objective, constraints)\n",
        "\n",
        "# Solve the problem\n",
        "problem.solve()\n",
        "\n",
        "# Display the results\n",
        "print(\"Optimal value (maximum return):\", problem.value)\n",
        "print(\"Optimal x1:\", x1.value)\n",
        "print(\"Optimal x2:\", x2.value)\n",
        "print(\"Optimal x3:\", x3.value)\n",
        "print(\"Optimal x4:\", x4.value)\n",
        "print(\"Optimal x5:\", x5.value)\n"
      ],
      "metadata": {
        "id": "SfnCjBooBLmG"
      },
      "execution_count": null,
      "outputs": []
    },
    {
      "cell_type": "markdown",
      "source": [
        "<font size=\"8\">Problem 2</font>"
      ],
      "metadata": {
        "id": "whQeOblWBbuc"
      }
    },
    {
      "cell_type": "markdown",
      "source": [
        "## CVXPY Practice Problem: Production Planning\n",
        "\n",
        "A company produces two types of products, P1 and P2. The profit function is given by:\n",
        "$ \\text{Maximize } f(x) = 5x_1^2 + 8x_2^2 - 2x_1x_2 - 6x_1 - 4x_2 $\n",
        "\n",
        "The company faces the following resource constraints:\n",
        "1. Labor Constraint: $2x_1 + 3x_2 \\leq 40$\n",
        "2. Raw Material Constraint: $4x_1 + 2x_2 \\leq 30$\n",
        "3. Non-negativity Constraint: $x_1 \\geq 0, \\quad x_2 \\geq 0$\n",
        "\n",
        "### Instructions:\n",
        "\n",
        "- Define variables: `x1 = cp.Variable()`, `x2 = cp.Variable()`.\n",
        "- Define the objective function and constraints.\n",
        "- Use `cp.Maximize` for maximization problems and `cp.Problem` to create the optimization problem.\n",
        "- Solve the problem using the `solve()` method.\n",
        "\n",
        "### Questions:\n",
        "\n",
        "1. Implement the CVXPY code to formulate and solve the quadratic programming problem.\n",
        "2. Print the optimal production quantities ($x_1$ and $x_2$).\n",
        "3. What is the maximum profit that the company can achieve?\n"
      ],
      "metadata": {
        "id": "TIrIVbRLEhmp"
      }
    },
    {
      "cell_type": "code",
      "source": [
        "# Import necessary libraries\n",
        "import cvxpy as cp\n",
        "\n",
        "# Define variables\n",
        "x1 = cp.Variable()\n",
        "x2 = cp.Variable()\n",
        "\n",
        "# Define the objective function\n",
        "objective = cp.Minimize(5 * x1**2 + 8 * x2**2 - 2 * x1 * x2 - 6 * x1 - 4 * x2)\n",
        "\n",
        "# Define constraints\n",
        "constraints = [\n",
        "    2 * x1 + 3 * x2 <= 40,\n",
        "    4 * x1 + 2 * x2 <= 30,\n",
        "    x1 >= 0,\n",
        "    x2 >= 0\n",
        "]\n",
        "\n",
        "# Create the optimization problem\n",
        "problem = cp.Problem(objective, constraints)\n",
        "\n",
        "# Solve the problem\n",
        "solution = problem.solve()\n",
        "\n",
        "# Print the optimal production quantities and maximum profit\n",
        "optimal_x1 = x1.value\n",
        "optimal_x2 = x2.value\n",
        "maximum_profit = objective.value\n",
        "\n",
        "print(\"Optimal production quantity for P1 (x1):\", optimal_x1)\n",
        "print(\"Optimal production quantity for P2 (x2):\", optimal_x2)\n",
        "print(\"Maximum profit:\", maximum_profit)"
      ],
      "metadata": {
        "id": "dro_5GIuExbX",
        "outputId": "f7967bbe-41ca-4150-c0f6-92084158ae01",
        "colab": {
          "base_uri": "https://localhost:8080/",
          "height": 775
        }
      },
      "execution_count": null,
      "outputs": [
        {
          "output_type": "error",
          "ename": "DCPError",
          "evalue": "ignored",
          "traceback": [
            "\u001b[0;31m---------------------------------------------------------------------------\u001b[0m",
            "\u001b[0;31mDCPError\u001b[0m                                  Traceback (most recent call last)",
            "\u001b[0;32m<ipython-input-1-50d1b1af178d>\u001b[0m in \u001b[0;36m<cell line: 23>\u001b[0;34m()\u001b[0m\n\u001b[1;32m     21\u001b[0m \u001b[0;34m\u001b[0m\u001b[0m\n\u001b[1;32m     22\u001b[0m \u001b[0;31m# Solve the problem\u001b[0m\u001b[0;34m\u001b[0m\u001b[0;34m\u001b[0m\u001b[0m\n\u001b[0;32m---> 23\u001b[0;31m \u001b[0msolution\u001b[0m \u001b[0;34m=\u001b[0m \u001b[0mproblem\u001b[0m\u001b[0;34m.\u001b[0m\u001b[0msolve\u001b[0m\u001b[0;34m(\u001b[0m\u001b[0;34m)\u001b[0m\u001b[0;34m\u001b[0m\u001b[0;34m\u001b[0m\u001b[0m\n\u001b[0m\u001b[1;32m     24\u001b[0m \u001b[0;34m\u001b[0m\u001b[0m\n\u001b[1;32m     25\u001b[0m \u001b[0;31m# Print the optimal production quantities and maximum profit\u001b[0m\u001b[0;34m\u001b[0m\u001b[0;34m\u001b[0m\u001b[0m\n",
            "\u001b[0;32m/usr/local/lib/python3.10/dist-packages/cvxpy/problems/problem.py\u001b[0m in \u001b[0;36msolve\u001b[0;34m(self, *args, **kwargs)\u001b[0m\n\u001b[1;32m    493\u001b[0m         \u001b[0;32melse\u001b[0m\u001b[0;34m:\u001b[0m\u001b[0;34m\u001b[0m\u001b[0;34m\u001b[0m\u001b[0m\n\u001b[1;32m    494\u001b[0m             \u001b[0msolve_func\u001b[0m \u001b[0;34m=\u001b[0m \u001b[0mProblem\u001b[0m\u001b[0;34m.\u001b[0m\u001b[0m_solve\u001b[0m\u001b[0;34m\u001b[0m\u001b[0;34m\u001b[0m\u001b[0m\n\u001b[0;32m--> 495\u001b[0;31m         \u001b[0;32mreturn\u001b[0m \u001b[0msolve_func\u001b[0m\u001b[0;34m(\u001b[0m\u001b[0mself\u001b[0m\u001b[0;34m,\u001b[0m \u001b[0;34m*\u001b[0m\u001b[0margs\u001b[0m\u001b[0;34m,\u001b[0m \u001b[0;34m**\u001b[0m\u001b[0mkwargs\u001b[0m\u001b[0;34m)\u001b[0m\u001b[0;34m\u001b[0m\u001b[0;34m\u001b[0m\u001b[0m\n\u001b[0m\u001b[1;32m    496\u001b[0m \u001b[0;34m\u001b[0m\u001b[0m\n\u001b[1;32m    497\u001b[0m     \u001b[0;34m@\u001b[0m\u001b[0mclassmethod\u001b[0m\u001b[0;34m\u001b[0m\u001b[0;34m\u001b[0m\u001b[0m\n",
            "\u001b[0;32m/usr/local/lib/python3.10/dist-packages/cvxpy/problems/problem.py\u001b[0m in \u001b[0;36m_solve\u001b[0;34m(self, solver, warm_start, verbose, gp, qcp, requires_grad, enforce_dpp, ignore_dpp, canon_backend, **kwargs)\u001b[0m\n\u001b[1;32m   1054\u001b[0m                 \u001b[0;32mreturn\u001b[0m \u001b[0mself\u001b[0m\u001b[0;34m.\u001b[0m\u001b[0mvalue\u001b[0m\u001b[0;34m\u001b[0m\u001b[0;34m\u001b[0m\u001b[0m\n\u001b[1;32m   1055\u001b[0m \u001b[0;34m\u001b[0m\u001b[0m\n\u001b[0;32m-> 1056\u001b[0;31m         data, solving_chain, inverse_data = self.get_problem_data(\n\u001b[0m\u001b[1;32m   1057\u001b[0m             \u001b[0msolver\u001b[0m\u001b[0;34m,\u001b[0m \u001b[0mgp\u001b[0m\u001b[0;34m,\u001b[0m \u001b[0menforce_dpp\u001b[0m\u001b[0;34m,\u001b[0m \u001b[0mignore_dpp\u001b[0m\u001b[0;34m,\u001b[0m \u001b[0mverbose\u001b[0m\u001b[0;34m,\u001b[0m \u001b[0mcanon_backend\u001b[0m\u001b[0;34m,\u001b[0m \u001b[0mkwargs\u001b[0m\u001b[0;34m\u001b[0m\u001b[0;34m\u001b[0m\u001b[0m\n\u001b[1;32m   1058\u001b[0m         )\n",
            "\u001b[0;32m/usr/local/lib/python3.10/dist-packages/cvxpy/problems/problem.py\u001b[0m in \u001b[0;36mget_problem_data\u001b[0;34m(self, solver, gp, enforce_dpp, ignore_dpp, verbose, canon_backend, solver_opts)\u001b[0m\n\u001b[1;32m    631\u001b[0m         \u001b[0;32mif\u001b[0m \u001b[0mkey\u001b[0m \u001b[0;34m!=\u001b[0m \u001b[0mself\u001b[0m\u001b[0;34m.\u001b[0m\u001b[0m_cache\u001b[0m\u001b[0;34m.\u001b[0m\u001b[0mkey\u001b[0m\u001b[0;34m:\u001b[0m\u001b[0;34m\u001b[0m\u001b[0;34m\u001b[0m\u001b[0m\n\u001b[1;32m    632\u001b[0m             \u001b[0mself\u001b[0m\u001b[0;34m.\u001b[0m\u001b[0m_cache\u001b[0m\u001b[0;34m.\u001b[0m\u001b[0minvalidate\u001b[0m\u001b[0;34m(\u001b[0m\u001b[0;34m)\u001b[0m\u001b[0;34m\u001b[0m\u001b[0;34m\u001b[0m\u001b[0m\n\u001b[0;32m--> 633\u001b[0;31m             solving_chain = self._construct_chain(\n\u001b[0m\u001b[1;32m    634\u001b[0m                 \u001b[0msolver\u001b[0m\u001b[0;34m=\u001b[0m\u001b[0msolver\u001b[0m\u001b[0;34m,\u001b[0m \u001b[0mgp\u001b[0m\u001b[0;34m=\u001b[0m\u001b[0mgp\u001b[0m\u001b[0;34m,\u001b[0m\u001b[0;34m\u001b[0m\u001b[0;34m\u001b[0m\u001b[0m\n\u001b[1;32m    635\u001b[0m                 \u001b[0menforce_dpp\u001b[0m\u001b[0;34m=\u001b[0m\u001b[0menforce_dpp\u001b[0m\u001b[0;34m,\u001b[0m\u001b[0;34m\u001b[0m\u001b[0;34m\u001b[0m\u001b[0m\n",
            "\u001b[0;32m/usr/local/lib/python3.10/dist-packages/cvxpy/problems/problem.py\u001b[0m in \u001b[0;36m_construct_chain\u001b[0;34m(self, solver, gp, enforce_dpp, ignore_dpp, canon_backend, solver_opts)\u001b[0m\n\u001b[1;32m    883\u001b[0m         \u001b[0mcandidate_solvers\u001b[0m \u001b[0;34m=\u001b[0m \u001b[0mself\u001b[0m\u001b[0;34m.\u001b[0m\u001b[0m_find_candidate_solvers\u001b[0m\u001b[0;34m(\u001b[0m\u001b[0msolver\u001b[0m\u001b[0;34m=\u001b[0m\u001b[0msolver\u001b[0m\u001b[0;34m,\u001b[0m \u001b[0mgp\u001b[0m\u001b[0;34m=\u001b[0m\u001b[0mgp\u001b[0m\u001b[0;34m)\u001b[0m\u001b[0;34m\u001b[0m\u001b[0;34m\u001b[0m\u001b[0m\n\u001b[1;32m    884\u001b[0m         \u001b[0mself\u001b[0m\u001b[0;34m.\u001b[0m\u001b[0m_sort_candidate_solvers\u001b[0m\u001b[0;34m(\u001b[0m\u001b[0mcandidate_solvers\u001b[0m\u001b[0;34m)\u001b[0m\u001b[0;34m\u001b[0m\u001b[0;34m\u001b[0m\u001b[0m\n\u001b[0;32m--> 885\u001b[0;31m         return construct_solving_chain(self, candidate_solvers, gp=gp,\n\u001b[0m\u001b[1;32m    886\u001b[0m                                        \u001b[0menforce_dpp\u001b[0m\u001b[0;34m=\u001b[0m\u001b[0menforce_dpp\u001b[0m\u001b[0;34m,\u001b[0m\u001b[0;34m\u001b[0m\u001b[0;34m\u001b[0m\u001b[0m\n\u001b[1;32m    887\u001b[0m                                        \u001b[0mignore_dpp\u001b[0m\u001b[0;34m=\u001b[0m\u001b[0mignore_dpp\u001b[0m\u001b[0;34m,\u001b[0m\u001b[0;34m\u001b[0m\u001b[0;34m\u001b[0m\u001b[0m\n",
            "\u001b[0;32m/usr/local/lib/python3.10/dist-packages/cvxpy/reductions/solvers/solving_chain.py\u001b[0m in \u001b[0;36mconstruct_solving_chain\u001b[0;34m(problem, candidates, gp, enforce_dpp, ignore_dpp, canon_backend, solver_opts)\u001b[0m\n\u001b[1;32m    195\u001b[0m     \u001b[0;32mif\u001b[0m \u001b[0mlen\u001b[0m\u001b[0;34m(\u001b[0m\u001b[0mproblem\u001b[0m\u001b[0;34m.\u001b[0m\u001b[0mvariables\u001b[0m\u001b[0;34m(\u001b[0m\u001b[0;34m)\u001b[0m\u001b[0;34m)\u001b[0m \u001b[0;34m==\u001b[0m \u001b[0;36m0\u001b[0m\u001b[0;34m:\u001b[0m\u001b[0;34m\u001b[0m\u001b[0;34m\u001b[0m\u001b[0m\n\u001b[1;32m    196\u001b[0m         \u001b[0;32mreturn\u001b[0m \u001b[0mSolvingChain\u001b[0m\u001b[0;34m(\u001b[0m\u001b[0mreductions\u001b[0m\u001b[0;34m=\u001b[0m\u001b[0;34m[\u001b[0m\u001b[0mConstantSolver\u001b[0m\u001b[0;34m(\u001b[0m\u001b[0;34m)\u001b[0m\u001b[0;34m]\u001b[0m\u001b[0;34m)\u001b[0m\u001b[0;34m\u001b[0m\u001b[0;34m\u001b[0m\u001b[0m\n\u001b[0;32m--> 197\u001b[0;31m     \u001b[0mreductions\u001b[0m \u001b[0;34m=\u001b[0m \u001b[0m_reductions_for_problem_class\u001b[0m\u001b[0;34m(\u001b[0m\u001b[0mproblem\u001b[0m\u001b[0;34m,\u001b[0m \u001b[0mcandidates\u001b[0m\u001b[0;34m,\u001b[0m \u001b[0mgp\u001b[0m\u001b[0;34m,\u001b[0m \u001b[0msolver_opts\u001b[0m\u001b[0;34m)\u001b[0m\u001b[0;34m\u001b[0m\u001b[0;34m\u001b[0m\u001b[0m\n\u001b[0m\u001b[1;32m    198\u001b[0m \u001b[0;34m\u001b[0m\u001b[0m\n\u001b[1;32m    199\u001b[0m     \u001b[0;31m# Process DPP status of the problem.\u001b[0m\u001b[0;34m\u001b[0m\u001b[0;34m\u001b[0m\u001b[0m\n",
            "\u001b[0;32m/usr/local/lib/python3.10/dist-packages/cvxpy/reductions/solvers/solving_chain.py\u001b[0m in \u001b[0;36m_reductions_for_problem_class\u001b[0;34m(problem, candidates, gp, solver_opts)\u001b[0m\n\u001b[1;32m    113\u001b[0m             append += (\"\\nHowever, the problem does follow DQCP rules. \"\n\u001b[1;32m    114\u001b[0m                        \"Consider calling solve() with `qcp=True`.\")\n\u001b[0;32m--> 115\u001b[0;31m         raise DCPError(\n\u001b[0m\u001b[1;32m    116\u001b[0m             \"Problem does not follow DCP rules. Specifically:\\n\" + append)\n\u001b[1;32m    117\u001b[0m     \u001b[0;32melif\u001b[0m \u001b[0mgp\u001b[0m \u001b[0;32mand\u001b[0m \u001b[0;32mnot\u001b[0m \u001b[0mproblem\u001b[0m\u001b[0;34m.\u001b[0m\u001b[0mis_dgp\u001b[0m\u001b[0;34m(\u001b[0m\u001b[0;34m)\u001b[0m\u001b[0;34m:\u001b[0m\u001b[0;34m\u001b[0m\u001b[0;34m\u001b[0m\u001b[0m\n",
            "\u001b[0;31mDCPError\u001b[0m: Problem does not follow DCP rules. Specifically:\nThe objective is not DCP. Its following subexpressions are not:\n2.0 @ var1 @ var2"
          ]
        }
      ]
    },
    {
      "cell_type": "markdown",
      "source": [
        "\\begin{align*}\n",
        "\\text{Maximize: } & \\cfrac{4}{\\cfrac{1}{x_1}+\\cfrac{1}{x_2}+\\cfrac{1}{x_3}+\\cfrac{1}{x_4}}, \\\\\n",
        "\\text{Subject to: } & x_1 + x_2+x_3+x_4 = 1, \\\\\n",
        "& x_2-\\cfrac{3}{4}x_3 = 0, \\\\\n",
        "& x_1,x_2,x_3,x_4 > 0.\n",
        "\\end{align*}"
      ],
      "metadata": {
        "id": "p2TWjv80FJXN"
      }
    },
    {
      "cell_type": "code",
      "source": [
        "import cvxpy as cp\n",
        "\n",
        "# Define variables\n",
        "x = cp.Variable(4, pos=True)  # x1, x2, x3, x4 > 0\n",
        "\n",
        "# Define the objective function (harmonic mean)\n",
        "objective = cp.harmonic_mean(x)\n",
        "\n",
        "# Define the constraint (sum of variables equal to 1)\n",
        "constraint = [cp.sum(x) == 1,\n",
        "              x[1]-3/4*x[2] == 0]\n",
        "\n",
        "# Define the optimization problem\n",
        "problem = cp.Problem(cp.Maximize(objective), constraint)\n",
        "\n",
        "# Solve the problem\n",
        "problem.solve()\n",
        "\n",
        "# Display the results\n",
        "print(\"Optimal values of x:\", x.value)\n",
        "print(\"Optimal objective value:\", problem.value)\n"
      ],
      "metadata": {
        "colab": {
          "base_uri": "https://localhost:8080/"
        },
        "id": "QPiqpsyhL8V_",
        "outputId": "812f3023-ab9d-4a2c-ff96-80f4fd925a1e"
      },
      "execution_count": null,
      "outputs": [
        {
          "output_type": "stream",
          "name": "stdout",
          "text": [
            "Optimal values of x: [0.24870097 0.21539917 0.28719889 0.24870097]\n",
            "Optimal objective value: 0.24742925443596794\n"
          ]
        }
      ]
    }
  ]
}
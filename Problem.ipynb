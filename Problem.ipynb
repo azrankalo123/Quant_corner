{
  "nbformat": 4,
  "nbformat_minor": 0,
  "metadata": {
    "colab": {
      "provenance": [],
      "include_colab_link": true
    },
    "kernelspec": {
      "name": "python3",
      "display_name": "Python 3"
    },
    "language_info": {
      "name": "python"
    }
  },
  "cells": [
    {
      "cell_type": "markdown",
      "metadata": {
        "id": "view-in-github",
        "colab_type": "text"
      },
      "source": [
        "<a href=\"https://colab.research.google.com/github/azrankalo123/Quant_corner/blob/main/Problem.ipynb\" target=\"_parent\"><img src=\"https://colab.research.google.com/assets/colab-badge.svg\" alt=\"Open In Colab\"/></a>"
      ]
    },
    {
      "cell_type": "markdown",
      "source": [
        "<font size=\"8\">Problem 1</font>"
      ],
      "metadata": {
        "id": "S8Efsl2xNdiu"
      }
    },
    {
      "cell_type": "markdown",
      "source": [
        "A mutual fund has \\$100,000 to be invested over a three-year horizon.\n",
        "\n",
        "Three investment options are available:\n",
        "\n",
        "- 1.  **Annuity:** the fund can pay a same amount of new capital at the beginning each of three years and receive a payoff of 130% of **total capital** invested at the end of the third year. Once the mutual fund decides to invest in this annuity, it has to keep investing in all subsequent years in the three-year horizon.\n",
        "\n",
        "- 2. **Bank account:** the fund can deposit any amount into a bank at the beginning of each year and receive its capital plus 6% interest at the end of that year. In addition, the mutual fund is permitted to borrow no more than $20,000 at the beginning of each year and is asked to pay back the amount borrowed plus 6% interest at the end of the year. The mutual fund can choose whether to deposit or borrow at the beginning of each year.\n",
        "\n",
        "- 3. **Corporate bond:** At the beginning of the second year, a corporate bond becomes available. The fund can buy an amount that is no more than\n",
        "\\$50,000 of this bond at the beginning of the second year and at the end of the third year receive a payout of 130% of the amount invested in the bond.\n",
        "\n",
        "The mutual fund’s objective is to maximize total payout that it owns at the end of the third year."
      ],
      "metadata": {
        "id": "RUmFjzmvNj_t"
      }
    },
    {
      "cell_type": "markdown",
      "source": [
        "<font size=\"8\">Problem 2</font>"
      ],
      "metadata": {
        "id": "IGPfFPwCNpfG"
      }
    },
    {
      "cell_type": "markdown",
      "source": [
        "## CVXPY Practice Problem: Production Planning\n",
        "\n",
        "A company produces two types of products, P1 and P2. The profit function is given by:\n",
        "$ \\text{Minimize } f(x) = 5x_1^2 + 8x_2^2 - 2x_1x_2 - 6x_1 - 4x_2 $\n",
        "\n",
        "The company faces the following resource constraints:\n",
        "1. Labor Constraint: $2x_1 + 3x_2 \\leq 40$\n",
        "2. Raw Material Constraint: $4x_1 + 2x_2 \\leq 30$\n",
        "3. Non-negativity Constraint: $x_1 \\geq 0, \\quad x_2 \\geq 0$\n",
        "\n",
        "### Instructions:\n",
        "\n",
        "- Define variables: `x1 = cp.Variable()`, `x2 = cp.Variable()`.\n",
        "- Define the objective function and constraints.\n",
        "- Use `cp.Minimize` for maximization problems and `cp.Problem` to create the optimization problem.\n",
        "- Solve the problem using the `solve()` method.\n",
        "\n",
        "### Questions:\n",
        "\n",
        "1. Implement the CVXPY code to formulate and solve the quadratic programming problem.\n",
        "2. Print the optimal production quantities ($x_1$ and $x_2$).\n",
        "3. What is the maximum profit that the company can achieve?\n"
      ],
      "metadata": {
        "id": "D40x8HtUNwj2"
      }
    },
    {
      "cell_type": "markdown",
      "source": [
        "<font size=\"8\">Problem 3</font>"
      ],
      "metadata": {
        "id": "Q7WHZ-yYNyhw"
      }
    },
    {
      "cell_type": "markdown",
      "source": [
        "\\begin{align*}\n",
        "\\text{Maximize: } & \\cfrac{4}{\\cfrac{1}{x_1}+\\cfrac{1}{x_2}+\\cfrac{1}{x_3}+\\cfrac{1}{x_4}}, \\\\\n",
        "\\text{Subject to: } & x_1 + x_2+x_3+x_4 = 1, \\\\\n",
        "& x_2-\\cfrac{3}{4}x_3 = 0, \\\\\n",
        "& x_1,x_2,x_3,x_4 > 0.\n",
        "\\end{align*}"
      ],
      "metadata": {
        "id": "FTahD4pTNyWI"
      }
    }
  ]
}